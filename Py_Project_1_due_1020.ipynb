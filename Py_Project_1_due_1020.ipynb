{
 "cells": [
  {
   "cell_type": "markdown",
   "metadata": {
    "id": "xq__bChjD04e"
   },
   "source": [
    "# Python Assignment 1"
   ]
  },
  {
   "cell_type": "markdown",
   "metadata": {
    "id": "y7j2V0UDMYLG"
   },
   "source": [
    "⏱⏱⏱**Due: 10/20/2024 11:59:59 PM** ⏱⏱⏱\n",
    "\n",
    "Submit this notebook file and upload it to your git repo. Include a link to your git repo while submitting this file to Brightspace.\n",
    "\n",
    "You are not allowed to use chatgpt or any LLM in this assignment.\n",
    "Cooperation is allowed and encouraged; however, you must write up and submit your own work. If you cooperate with others, you must list their names here."
   ]
  },
  {
   "cell_type": "markdown",
   "metadata": {
    "id": "SUS30Ew9D04n"
   },
   "source": [
    "Total points: 100 (equivalent to 20 points after conversion)"
   ]
  },
  {
   "cell_type": "markdown",
   "metadata": {
    "id": "b_bgT3b2GYTB"
   },
   "source": [
    "## 0. Data Types, Structures, Indexing, and Slicing"
   ]
  },
  {
   "cell_type": "markdown",
   "metadata": {
    "id": "6yI1Jt57IwV2"
   },
   "source": [
    "Read the lecture note as well as [this page](https://www.geeksforgeeks.org/mutable-vs-immutable-objects-in-python/) and [this page](https://www.geeksforgeeks.org/difference-between-shallow-and-deep-copy-of-a-class/). Complete the following questions.\n",
    "\n",
    "(5 points) Give some examples (at least 2) of mutable objects in Python.\n",
    "\n",
    "***Answer:*** list, dict and set\n",
    "\n",
    "\n",
    "---\n",
    "\n",
    "\n",
    "\n",
    "(5 points) Give some examples (at least 2) of immutable objects in Python.\n",
    "\n",
    "***Answer:*** tuple,  and in-built datatypes such as int, float, bool, string\n",
    "\n",
    "\n",
    "---\n",
    "\n",
    "\n",
    "\n",
    "(10 points) State the differences between assignment, shallow copy, and deep copy. Any reasonable answer will get full credit.\n",
    "\n",
    "***Answer:***\n",
    "\n",
    "- **Assignment**\n",
    "    - Assignment is the act of saving a value to a variable, which points to an address in the memory.\n",
    "    - The variable can be assigned with the value directly, or the value stored in another variable\n",
    "- **Shallow copy**:\n",
    "    - Given a variable that points to an address, a shallow copy is another variable of same data type that points to the same address space.\n",
    "    - A shallow copy is typically created when a variable is trying to copy its heap-allocated value to another variable through assignment\n",
    "    - Even if no operation done on the original variable, any that is done on the shallow copy would also influence the content stored in that address\n",
    "- **Deep copy**\n",
    "    - Given a variable that points to an address, a deep copy is another variable  of same data type that points to a different address but contains the same content as what is stored in the former. \n",
    "\n",
    "\n",
    "---\n",
    "\n",
    "\n",
    "\n"
   ]
  },
  {
   "cell_type": "markdown",
   "metadata": {
    "id": "OA8DxcrrGqZD"
   },
   "source": [
    "(10 points) Using string methods find() and rfind(), find the index of the first digit (i.e. 0) and the index of the last digit (5) in the string below. Then, using string slicing, extract the number (i.e. 0.595595) from this string and convert the extracted value to a floating point number. Print out this float to the console."
   ]
  },
  {
   "cell_type": "code",
   "execution_count": 1,
   "metadata": {
    "id": "AUuFXXWqG4D3"
   },
   "outputs": [
    {
     "name": "stdout",
     "output_type": "stream",
     "text": [
      "Extracted number from text = 0.595595 type = <class 'float'>\n"
     ]
    }
   ],
   "source": [
    "import re\n",
    "text = \"F-DGFDDSFGFD-CFDSHdstgfdfe: tfsd  aaa bdsf 0.595595 fdsgfdbc\";\n",
    "\n",
    "# Using regular expression to identify the first and last digit\n",
    "firstDigit = re.search(\"[0-9]\", text).group();\n",
    "lastDigit = re.search(r\"[0-9](?=[^0-9.])\", text).group();\n",
    "\n",
    "# Find the indices of the first and last digit\n",
    "firstDigitIndex = text.find(firstDigit);\n",
    "lastDigitIndex = text.rfind(lastDigit);\n",
    "\n",
    "# Extract float from the text using index slicing\n",
    "strNum = text[slice(firstDigitIndex,lastDigitIndex+1)];\n",
    "num = float(strNum);\n",
    "\n",
    "#Print the float number to the console\n",
    "print(f\"Extracted number from text = {num} type = {type(num)}\");"
   ]
  },
  {
   "cell_type": "markdown",
   "metadata": {
    "id": "cnCljYgpD04p"
   },
   "source": [
    "## 1. Conditional Statements\n",
    "\n",
    "(10 points)\n",
    "Translate the following MATLAB code into Python using `if-elif-else`.\n",
    "```\n",
    "n = input('Enter a number: ');\n",
    "\n",
    "switch n\n",
    "    case -1\n",
    "        disp('negative one')\n",
    "    case 0\n",
    "        disp('zero')\n",
    "    case 1\n",
    "        disp('positive one')\n",
    "    otherwise\n",
    "        disp('other value')\n",
    "end\n",
    "```"
   ]
  },
  {
   "cell_type": "code",
   "execution_count": 2,
   "metadata": {
    "id": "9d8vl5zjD04q"
   },
   "outputs": [
    {
     "name": "stdin",
     "output_type": "stream",
     "text": [
      "Enter a number:  1\n"
     ]
    },
    {
     "name": "stdout",
     "output_type": "stream",
     "text": [
      "one\n"
     ]
    }
   ],
   "source": [
    "n = input('Enter a number: ');\n",
    "if n == '-1':\n",
    "    print(\"negative one\");\n",
    "elif n == '0':\n",
    "    print(\"zero\");\n",
    "elif n == '1':\n",
    "    print(\"one\");\n",
    "else:\n",
    "    print(\"other value\")"
   ]
  },
  {
   "cell_type": "markdown",
   "metadata": {
    "id": "sW9XiUPpD04s"
   },
   "source": [
    "## 2. While Loops\n",
    "\n",
    "(10 points) Write a Python program that calculates the factorial of a given number (you can assume an positive integer) using a while loop. Display the result to the console."
   ]
  },
  {
   "cell_type": "code",
   "execution_count": 14,
   "metadata": {
    "colab": {
     "base_uri": "https://localhost:8080/"
    },
    "id": "CRCERx8uD04t",
    "outputId": "1870b9d1-fe04-4ae7-e5ec-08ce640ce72e"
   },
   "outputs": [
    {
     "name": "stdout",
     "output_type": "stream",
     "text": [
      "355687428096000\n"
     ]
    }
   ],
   "source": [
    "\n",
    "n = 17;\n",
    "f = 1;\n",
    "iter = 1;\n",
    "while(iter <= n):\n",
    "    f = f*iter;\n",
    "    iter = iter+1;\n",
    "\n",
    "print(f);\n",
    "\n",
    "# test cases\n",
    "# n = 17, Output: 355687428096000\n",
    "# n = 13, Output: 6227020800"
   ]
  },
  {
   "cell_type": "markdown",
   "metadata": {
    "id": "ZQ5SVMq6D04w"
   },
   "source": [
    "## 3. Functions\n",
    "\n",
    "(10 points) Write a function that determines if a number is prime."
   ]
  },
  {
   "cell_type": "code",
   "execution_count": 4,
   "metadata": {
    "colab": {
     "base_uri": "https://localhost:8080/"
    },
    "id": "6rGP5G3_D04x",
    "outputId": "00df2d17-b697-4146-968f-be4fa7cc3ba3"
   },
   "outputs": [
    {
     "name": "stdout",
     "output_type": "stream",
     "text": [
      "False\n",
      "True\n",
      "False\n",
      "True\n",
      "True\n",
      "False\n"
     ]
    }
   ],
   "source": [
    "def is_prime(n):\n",
    "\n",
    "    # argument constraint check\n",
    "    # n<= 1 cannot be prime number\n",
    "    # including negative number\n",
    "    if n <= 1:\n",
    "        return False;\n",
    "\n",
    "    div = 2;\n",
    "\n",
    "    # we only check for odd number since\n",
    "    # other than 2, all prime numbers are odd\n",
    "    while(div *2 <= n):\n",
    "        if n%div == 0:\n",
    "            return False;\n",
    "        if div == 2:\n",
    "            div = div+1;\n",
    "        else:\n",
    "            div = div+2;\n",
    "    return True;\n",
    "\n",
    "\n",
    "\n",
    "# test cases\n",
    "print(is_prime(-1))      # Output: False\n",
    "print(is_prime(2))      # Output: True\n",
    "print(is_prime(10))     # Output: False\n",
    "print(is_prime(17))     # Output: True\n",
    "print(is_prime(7817))     # Output: True\n",
    "print(is_prime(7923))     # Output: False\n"
   ]
  },
  {
   "cell_type": "markdown",
   "metadata": {
    "id": "Z6qg-fpQD04u"
   },
   "source": [
    "## 4. List Comprehension\n",
    "\n",
    "(10 points) Write a Python function called `prime_factors` that takes a relatively small integer as input and returns a list of its distinct prime factors. The function should use list comprehension to generate the list of distinct prime factors. You may use the function is_prime() defined in Q3.\n"
   ]
  },
  {
   "cell_type": "code",
   "execution_count": 16,
   "metadata": {
    "colab": {
     "base_uri": "https://localhost:8080/"
    },
    "id": "2hSCjYlOD04v",
    "outputId": "1024d2e2-7d24-4e65-9529-e5a82d2a3211"
   },
   "outputs": [
    {
     "name": "stdout",
     "output_type": "stream",
     "text": [
      "[2, 3, 5]\n",
      "[2, 7]\n",
      "[2, 3, 11]\n",
      "[2, 29]\n",
      "[7]\n",
      "[2, 3, 5, 7, 11]\n"
     ]
    }
   ],
   "source": [
    "def prime_factors(n):\n",
    "    # Argument constraint check\n",
    "    # n <= 1 would have no prime factor, so invalid\n",
    "    if n <= 1: return [];\n",
    "    \n",
    "    # Initialize return list\n",
    "    l = [];\n",
    "\n",
    "    f = 2;\n",
    "    \n",
    "    while(f <= n and n > 1):\n",
    "        # Check if f is prime, then check if n is divisible by f\n",
    "        # if both conditions satisfied, add f to return list\n",
    "        # and divide n by f\n",
    "        if is_prime(f)and n % f == 0:        \n",
    "            l.append(f);\n",
    "            n = n/f;\n",
    "    \n",
    "        if f == 2:\n",
    "            f = f+1;\n",
    "        else:\n",
    "            f = f+2;\n",
    "    \n",
    "    return l;\n",
    "\n",
    "# test cases\n",
    "print(prime_factors(30))  # Output: [2, 3, 5]\n",
    "print(prime_factors(56))  # Output: [2, 7]\n",
    "print(prime_factors(198))  # Output: [2, 3, 11]\n",
    "print(prime_factors(464))  # Output: [2, 29]\n",
    "print(prime_factors(343))  # Output: [7]\n",
    "print(prime_factors(39916800))  # Output: [2,3,5,7,11]\n"
   ]
  },
  {
   "cell_type": "markdown",
   "metadata": {
    "id": "dw4kZZCiD040"
   },
   "source": [
    "## 5. Recursive Functions\n",
    "(25 points) Write a function that uses recursion to generate the $n$th row of the Pascal's triangle.\n",
    "```\n",
    "              1\n",
    "           1     1\n",
    "        1     2     1\n",
    "      1    3     3     1\n",
    "   1    4     6     4    1\n",
    "1     5    10    10    5    1\n",
    "...\n",
    "...\n",
    "...\n",
    "```"
   ]
  },
  {
   "cell_type": "code",
   "execution_count": 17,
   "metadata": {
    "colab": {
     "base_uri": "https://localhost:8080/"
    },
    "id": "V8QFB_gKD040",
    "outputId": "4946dc49-2061-4057-e65d-9f48af44dac9"
   },
   "outputs": [
    {
     "name": "stdout",
     "output_type": "stream",
     "text": [
      "        [1]         \n",
      "       [1, 1]       \n",
      "     [1, 2, 1]      \n",
      "    [1, 3, 3, 1]    \n",
      "  [1, 4, 6, 4, 1]   \n",
      "[1, 5, 10, 10, 5, 1]\n"
     ]
    }
   ],
   "source": [
    "def pascal(n):\n",
    "\n",
    "    # Base cases\n",
    "    # return empty list if n = 0\n",
    "    # return [1] is n = 1\n",
    "    if n <=0:\n",
    "        return [];\n",
    "    elif n == 1:\n",
    "        return [1];\n",
    "\n",
    "    '''\n",
    "    Notice the pattern\n",
    "    e.g.: 2nd row ([1,1]) -> 3rd row ([1,2,1])\n",
    "     [1,1,0]\n",
    "    +[0,1,1]\n",
    "    ---------\n",
    "     [1,2,1]\n",
    "    Same pattern can be applied when upgrading from nth to (n+1)th row \n",
    "    '''\n",
    "    a = pascal(n-1) + [0];\n",
    "    b = [0] + pascal(n-1);\n",
    "\n",
    "    #return the element-wise addition of 2 lists\n",
    "    return [sum(x) for x in zip(a, b)]\n",
    "\n",
    "\n",
    "# test case\n",
    "for i in range(1,7):\n",
    "    print(f\"{pascal(i)}\".center(20))  # output [1, 5, 10, 10, 5, 1]"
   ]
  },
  {
   "cell_type": "markdown",
   "metadata": {
    "id": "eZytgm0qD041"
   },
   "source": [
    "Rewrite the above function using only `while` or `for` loops instead of recursion."
   ]
  },
  {
   "cell_type": "code",
   "execution_count": 18,
   "metadata": {
    "colab": {
     "base_uri": "https://localhost:8080/"
    },
    "id": "UZ8f-akaD041",
    "outputId": "68ec5672-a40f-493f-e725-68b7471e76bc"
   },
   "outputs": [
    {
     "name": "stdout",
     "output_type": "stream",
     "text": [
      "        [1]         \n",
      "       [1, 1]       \n",
      "     [1, 2, 1]      \n",
      "    [1, 3, 3, 1]    \n",
      "  [1, 4, 6, 4, 1]   \n",
      "[1, 5, 10, 10, 5, 1]\n"
     ]
    }
   ],
   "source": [
    "def pascal_by_loops(n):\n",
    "    if n <=0:\n",
    "        return [];\n",
    "    r = [1];\n",
    "    for i in range(1,n):\n",
    "        a = r + [0];\n",
    "        b = [0] + r;\n",
    "        r = [sum(x) for x in zip(a, b)];\n",
    "    return r;\n",
    "\n",
    "\n",
    "for i in range(1,7):\n",
    "    print(f\"{pascal_by_loops(i)}\".center(20))"
   ]
  },
  {
   "cell_type": "markdown",
   "metadata": {
    "id": "HvHD6QHzVo9I"
   },
   "source": [
    "\n",
    "\n",
    "---\n",
    "\n",
    "\n",
    "（5 points) good coding practice and properly submitting your work to GitHub."
   ]
  }
 ],
 "metadata": {
  "anaconda-cloud": {},
  "colab": {
   "provenance": []
  },
  "kernelspec": {
   "display_name": "Python 3 (ipykernel)",
   "language": "python",
   "name": "python3"
  },
  "language_info": {
   "codemirror_mode": {
    "name": "ipython",
    "version": 3
   },
   "file_extension": ".py",
   "mimetype": "text/x-python",
   "name": "python",
   "nbconvert_exporter": "python",
   "pygments_lexer": "ipython3",
   "version": "3.12.7"
  }
 },
 "nbformat": 4,
 "nbformat_minor": 4
}
